{
 "cells": [
  {
   "cell_type": "code",
   "execution_count": 47,
   "id": "0eab27e5",
   "metadata": {},
   "outputs": [],
   "source": [
    "import secrets\n",
    "import string\n",
    "import hashlib\n",
    "\n",
    "# generate random password\n",
    "def gen_pass(length=16):\n",
    "    char = string.ascii_letters + string.digits + string.punctuation\n",
    "    password = \"\".join(secrets.choice(char) for i in range(length))\n",
    "    return password\n",
    "\n",
    "# hash password\n",
    "def hash_function(password):\n",
    "    hashed_password = hashlib.sha256(password.encode()).hexdigest()\n",
    "    return hashed_password\n",
    "\n",
    "# store password\n",
    "def store_pass(service, username, password):\n",
    "    hashed_password = hash_function(password)\n",
    "    with open(\"password_database.txt\", \"a\") as f:\n",
    "        f.write(f\"{service},{username},{hashed_password}\\n\")\n",
    "\n",
    "# retrieve password\n",
    "def get_password(service, username):\n",
    "    with open(\"password_database.txt\", \"r\") as f:\n",
    "        for line in f:\n",
    "            service_, username_, hashed_password_ = line.strip().split(\",\")\n",
    "            if service == service_ and username == username_:\n",
    "                return hashed_password_\n",
    "        return None"
   ]
  },
  {
   "cell_type": "code",
   "execution_count": 48,
   "id": "ac9ea8a2",
   "metadata": {},
   "outputs": [
    {
     "name": "stdout",
     "output_type": "stream",
     "text": [
      "ZYG}wVKVEPj$XA63\n",
      "0de1fce4053c627138334e569771d8a6f252d79d1f88642d6bf016bf313001cc\n"
     ]
    }
   ],
   "source": [
    "# test generate password function\n",
    "password = gen_pass()\n",
    "print(password)\n",
    "\n",
    "# test store password function\n",
    "store_pass(\"Facebook\", \"john\", password)\n",
    "\n",
    "# test retrieve password function\n",
    "retrieved_password = get_password(\"Facebook\", \"john\")\n",
    "print(retrieved_password)"
   ]
  },
  {
   "cell_type": "code",
   "execution_count": null,
   "id": "0281bac9",
   "metadata": {},
   "outputs": [],
   "source": []
  }
 ],
 "metadata": {
  "kernelspec": {
   "display_name": "Python 3 (ipykernel)",
   "language": "python",
   "name": "python3"
  },
  "language_info": {
   "codemirror_mode": {
    "name": "ipython",
    "version": 3
   },
   "file_extension": ".py",
   "mimetype": "text/x-python",
   "name": "python",
   "nbconvert_exporter": "python",
   "pygments_lexer": "ipython3",
   "version": "3.9.13"
  }
 },
 "nbformat": 4,
 "nbformat_minor": 5
}
